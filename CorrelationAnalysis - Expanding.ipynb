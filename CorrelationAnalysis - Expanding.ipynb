{
 "cells": [
  {
   "cell_type": "code",
   "execution_count": null,
   "metadata": {
    "collapsed": true
   },
   "outputs": [],
   "source": [
    "import numpy as np\n",
    "import pandas as pd\n",
    "import matplotlib.pyplot as plt\n",
    "from pandas.plotting import scatter_matrix\n",
    "from pandas.plotting import autocorrelation_plot\n",
    "import seaborn as sns\n",
    "from sklearn.preprocessing import MinMaxScaler\n",
    "import os"
   ]
  },
  {
   "cell_type": "code",
   "execution_count": null,
   "metadata": {
    "collapsed": true
   },
   "outputs": [],
   "source": [
    "path = \"D:\\\\COLLEGE\\\\THESIS\\Feature Engineering\\\\FeatureEngineering_TimeSeries\\\\normalized_merged\\\\normalized_mmda_ogimet_2015_seasonDryWet_ENGINEERED\\\\ENGINEER_normalized_mmda_ogimet_A. Maceda_2015_seasonDry.csv\"\n",
    "\n",
    "merged_dataset = pd.read_csv(\"D:\\\\COLLEGE\\\\THESIS\\Feature Engineering\\\\FeatureEngineering_TimeSeries\\\\normalized_merged\\\\normalized_mmda_ogimet_2015_seasonDryWet_ENGINEERED\\\\ENGINEER_normalized_mmda_ogimet_A. Maceda_2015_seasonDry.csv\", skipinitialspace = True, encoding = \"ISO-8859-1\")"
   ]
  },
  {
   "cell_type": "markdown",
   "metadata": {},
   "source": [
    "### Get High Correlation"
   ]
  },
  {
   "cell_type": "code",
   "execution_count": null,
   "metadata": {
    "collapsed": true
   },
   "outputs": [],
   "source": [
    "def getAllHighCorr(dataset, limit):\n",
    "    features = dataset.columns\n",
    "    hc_features = []\n",
    "    for w in range(0, len(features)):\n",
    "        #print('Highly correlated with ' + w)\n",
    "        col_name = features[w]\n",
    "        col = dataset[col_name]\n",
    "        temp = col[((col <= -limit) | (col >= limit))]\n",
    "        hc_features.append(temp)\n",
    "        #print(col[col>=0.5])\n",
    "        #print('\\n')\n",
    "        \n",
    "        \n",
    "    for w in range(1, len(features)-1):\n",
    "        hc_features[w] = hc_features[w].to_frame()\n",
    "        print(hc_features[w])\n",
    "        print('\\n')\n",
    "        \n",
    "    return hc_features\n"
   ]
  },
  {
   "cell_type": "markdown",
   "metadata": {},
   "source": [
    "### Visualize Correlation"
   ]
  },
  {
   "cell_type": "code",
   "execution_count": null,
   "metadata": {
    "collapsed": true
   },
   "outputs": [],
   "source": [
    "def visualizeCorrelationPlot(dc):\n",
    "    fig = plt.figure()\n",
    "    ax = fig.add_subplot(111)\n",
    "    cax = ax.matshow(dc, vmin=-1, vmax=1)\n",
    "    fig.colorbar(cax)\n",
    "    ticks = np.arange(0,len(dc.columns),1)\n",
    "    ax.set_yticks(ticks)\n",
    "    ticks = np.arange(0,len(dc.columns),1)\n",
    "    ax.set_xticks(ticks)\n",
    "    ax.set_yticklabels(dc.columns)\n",
    "    plt.show()"
   ]
  },
  {
   "cell_type": "code",
   "execution_count": null,
   "metadata": {
    "collapsed": true
   },
   "outputs": [],
   "source": []
  },
  {
   "cell_type": "code",
   "execution_count": null,
   "metadata": {
    "collapsed": true
   },
   "outputs": [],
   "source": [
    "if not os.path.exists(DATASET_DIR + \"analysis/\" + DATASET_DIVISION):\n",
    "        os.makedirs(DATASET_DIR + \"analysis/\" + DATASET_DIVISION)\n",
    "\n",
    "TO_EXPORT = True\n",
    "for r in range(len(TRAFFIC_LIST)):\n",
    "    traffic = TRAFFIC_LIST[r]\n",
    "    weather = weather_dataset\n",
    "    rainy_corr = trafficWeatherCorr(traffic, weather)\n",
    "    \n",
    "    if TO_EXPORT:\n",
    "        rainy_corr.to_csv(DATASET_DIR + \"analysis/\" + DATASET_DIVISION + \"/\" + ROADS_1[r] + \"_\" + YEAR + \"_\" + DATASET_DIVISION + EXT, encoding='utf-8')\n",
    "        \n",
    "    print(ROADS_1[r])\n",
    "    visualizeCorrelationPlot(rainy_corr)"
   ]
  }
 ],
 "metadata": {
  "kernelspec": {
   "display_name": "Python 3",
   "language": "python",
   "name": "python3"
  },
  "language_info": {
   "codemirror_mode": {
    "name": "ipython",
    "version": 3
   },
   "file_extension": ".py",
   "mimetype": "text/x-python",
   "name": "python",
   "nbconvert_exporter": "python",
   "pygments_lexer": "ipython3",
   "version": "3.6.3"
  }
 },
 "nbformat": 4,
 "nbformat_minor": 2
}
