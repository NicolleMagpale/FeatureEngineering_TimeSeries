{
 "cells": [
  {
   "cell_type": "code",
   "execution_count": 1,
   "metadata": {
    "collapsed": true
   },
   "outputs": [],
   "source": [
    "#SIMPLE DATA READING\n",
    "from pandas import Series\n",
    "from pandas import DataFrame\n",
    "from pandas import concat\n",
    "import pandas as pd\n",
    "import os\n",
    "from sklearn.preprocessing import MinMaxScaler\n",
    "import numpy as np\n",
    "import math\n",
    "\n"
   ]
  },
  {
   "cell_type": "code",
   "execution_count": 2,
   "metadata": {
    "collapsed": true
   },
   "outputs": [],
   "source": [
    "\n",
    "def generateFeaturesWOshift(variable):\n",
    "\n",
    "    # Generate Shifts\n",
    "    \n",
    "    t17 = series[variable].shift(17).fillna(0)\n",
    "    t16 = series[variable].shift(16).fillna(0)\n",
    "    t15 = series[variable].shift(15).fillna(0)\n",
    "    t14 = series[variable].shift(14).fillna(0)\n",
    "    t13 = series[variable].shift(13).fillna(0)\n",
    "    t12 = series[variable].shift(12).fillna(0)\n",
    "    t11 = series[variable].shift(11).fillna(0)\n",
    "    t10 = series[variable].shift(10).fillna(0)\n",
    "    t9 = series[variable].shift(9).fillna(0)\n",
    "    t8 = series[variable].shift(8).fillna(0)\n",
    "    t7 = series[variable].shift(7).fillna(0)\n",
    "    t6 = series[variable].shift(6).fillna(0)\n",
    "    t5 = series[variable].shift(5).fillna(0)\n",
    "    t4 = series[variable].shift(4).fillna(0)\n",
    "    t3 = series[variable].shift(3).fillna(0)\n",
    "    t2 = series[variable].shift(2).fillna(0)\n",
    "    t1 = series[variable].shift(1).fillna(0)\n",
    "    t = series[variable]\n",
    "    \n",
    "    #Expanding Part\n",
    "    \n",
    "    expandingWindow = series[variable].expanding()\n",
    "\n"
   ]
  },
  {
   "cell_type": "code",
   "execution_count": 3,
   "metadata": {
    "collapsed": true
   },
   "outputs": [],
   "source": [
    "def normalize(data):\n",
    "    y = pd.to_numeric(data)\n",
    "    y = np.array(y.reshape(-1, 1))\n",
    "    scaler = MinMaxScaler()\n",
    "    y = scaler.fit_transform(y)\n",
    "    y = y.reshape(1, -1)[0]\n",
    "    return y"
   ]
  },
  {
   "cell_type": "markdown",
   "metadata": {},
   "source": [
    "# Do Not Use This"
   ]
  },
  {
   "cell_type": "code",
   "execution_count": 4,
   "metadata": {
    "collapsed": true
   },
   "outputs": [],
   "source": [
    "\n",
    "def generateExpandingFeatures(variable, timeStep):\n",
    "\n",
    "     numOfTimeSteps = timeStep\n",
    "#Assign Column Name     \n",
    "     newMin = 'Expanding Min ' + str(numOfTimeSteps) + ' ' + str(variable)\n",
    "     newMax = 'Expanding Max ' + str(numOfTimeSteps) + ' ' + str(variable)\n",
    "     newSum = 'Expanding Sum ' + str(numOfTimeSteps) + ' ' + str(variable)\n",
    "     newMean = 'Expanding Mean ' + str(numOfTimeSteps) + ' ' + str(variable)\n",
    "        \n",
    "     #Start and end index of first full window\n",
    "     startFeed = 0\n",
    "     endFeed = numOfTimeSteps\n",
    "        \n",
    "     \n",
    "        \n",
    "     # For every day. (Length of entries / number of Time Steps)\n",
    "     for x in range(1, int(math.floor(len(series[variable])/numOfTimeSteps)) + 1):\n",
    "        tempSeries = series[variable][startFeed:endFeed].tolist()\n",
    "        tempWindow = []\n",
    "        \n",
    "        \n",
    "        if(len(series[variable])-len(minList) < numOfTimeSteps):\n",
    "            print(len(series[variable])-len(minList))\n",
    "            print(numOfTimeSteps)\n",
    "            numOfTimeSteps = len(series[variable])-len(minList) +1\n",
    "        \n",
    "        # Changing of Window Size\n",
    "        for e in range(0, numOfTimeSteps):\n",
    "            tempWindow.append(tempSeries[e])\n",
    "            minList.append(min(tempWindow))\n",
    "            maxList.append(max(tempWindow))\n",
    "            sumList.append(sum(tempWindow))\n",
    "            meanList.append(sum(tempWindow)/len(tempWindow))\n",
    "            \n",
    "        startFeed = endFeed\n",
    "        endFeed = startFeed + numOfTimeSteps\n",
    "        \n",
    "     series[newMin] = minList\n",
    "     series[newMax] = maxList\n",
    "     series[newSum] = sumList\n",
    "     series[newMean] = meanList\n",
    "     \n",
    "     "
   ]
  },
  {
   "cell_type": "markdown",
   "metadata": {},
   "source": [
    "# USE THIS ONLY"
   ]
  },
  {
   "cell_type": "code",
   "execution_count": 5,
   "metadata": {},
   "outputs": [
    {
     "name": "stdout",
     "output_type": "stream",
     "text": [
      "DONE\n"
     ]
    }
   ],
   "source": [
    "\n",
    "timeSteps = [2, 3, 4, 8, 12, 16, 24, 48, 96]\n",
    "path = 'D:\\\\COLLEGE\\\\THESIS\\\\Feature Engineering\\\\FeatureEngineering_TimeSeries\\\\normalized_merged\\\\normalized_mmda_wwo_2015_seasonDryWet'\n",
    "ogpath = path + \"\\\\\"\n",
    "# for pfilename in os.listdir(ogpath):\n",
    "#     print(pfilename)\n",
    "filename = \"normalized_mmda_wwo_Vicente Cruz_2015_seasonWet.csv\"\n",
    "series = pd.read_csv(ogpath + filename, skipinitialspace = True, encoding = \"ISO-8859-1\")\n",
    "for v in range(1,15):\n",
    "     variable = series.columns.values[v]\n",
    "     for time in timeSteps:\n",
    "         minList = []\n",
    "         maxList = []\n",
    "         sumList = []\n",
    "         meanList = []\n",
    "         feedList = [0, 95]\n",
    "\n",
    "         numOfTimeSteps = time\n",
    "#Assign Column Name     \n",
    "         newMin = 'Expanding Min ' + str(numOfTimeSteps) + ' ' + str(variable)\n",
    "         newMax = 'Expanding Max ' + str(numOfTimeSteps) + ' ' + str(variable)\n",
    "         newSum = 'Expanding Sum ' + str(numOfTimeSteps) + ' ' + str(variable)\n",
    "         newMean = 'Expanding Mean ' + str(numOfTimeSteps) + ' ' + str(variable)\n",
    "\n",
    "         #Start and end index of first full window\n",
    "         startFeed = 0\n",
    "         endFeed = numOfTimeSteps\n",
    "         ctrl = 1\n",
    " # For every day. (Length of entries / number of Time Steps)\n",
    "         for x in range(0, int(math.floor(len(series[variable])/numOfTimeSteps) + 1)):\n",
    "            tempSeries = series[variable][startFeed:endFeed].tolist()\n",
    "            tempWindow = []\n",
    "\n",
    "\n",
    "            # Changing of Window Size\n",
    "            for e in range(0, len(tempSeries)):\n",
    "                tempWindow.append(tempSeries[e])\n",
    "                minList.append(min(tempWindow))\n",
    "                maxList.append(max(tempWindow))\n",
    "                sumList.append(sum(tempWindow))\n",
    "                meanList.append(sum(tempWindow)/len(tempWindow))\n",
    "\n",
    "            startFeed = endFeed\n",
    "\n",
    "            endFeed = startFeed + numOfTimeSteps\n",
    "            if(len(series[variable])-len(minList) < numOfTimeSteps):\n",
    "                endFeed = startFeed + len(series[variable])-len(minList)\n",
    "         series[newMin] = minList\n",
    "         series[newMax] = maxList\n",
    "         series[newSum] = sumList\n",
    "         series[newMean] = meanList\n",
    "\n",
    "\n",
    "\n",
    "series.to_csv(path + \"_ENGINEERED\\\\2ENGINEER_\" + filename, encoding='utf-8', index=False)\n",
    "\n",
    "print('DONE')\n",
    "    "
   ]
  },
  {
   "cell_type": "code",
   "execution_count": null,
   "metadata": {
    "collapsed": true
   },
   "outputs": [],
   "source": []
  }
 ],
 "metadata": {
  "kernelspec": {
   "display_name": "Python 3",
   "language": "python",
   "name": "python3"
  },
  "language_info": {
   "codemirror_mode": {
    "name": "ipython",
    "version": 3
   },
   "file_extension": ".py",
   "mimetype": "text/x-python",
   "name": "python",
   "nbconvert_exporter": "python",
   "pygments_lexer": "ipython3",
   "version": "3.6.3"
  }
 },
 "nbformat": 4,
 "nbformat_minor": 2
}
