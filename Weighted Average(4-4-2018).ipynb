{
 "cells": [
  {
   "cell_type": "code",
   "execution_count": 44,
   "metadata": {},
   "outputs": [
    {
     "data": {
      "text/plain": [
       "str"
      ]
     },
     "execution_count": 44,
     "metadata": {},
     "output_type": "execute_result"
    }
   ],
   "source": [
    "#SIMPLE DATA READING\n",
    "from pandas import Series\n",
    "from pandas import DataFrame\n",
    "from pandas import concat\n",
    "import pandas as pd\n",
    "import os\n",
    "\n",
    "data = pd.read_csv('pm1pm2.csv', skipinitialspace = True, sep = ',')\n",
    "data.columns.values\n",
    "type(data['PM1'][1])"
   ]
  },
  {
   "cell_type": "code",
   "execution_count": 45,
   "metadata": {},
   "outputs": [],
   "source": [
    "#weights\n",
    "\n",
    "W1 = 0.1392\n",
    "W2 = 0.2364\n"
   ]
  },
  {
   "cell_type": "code",
   "execution_count": 50,
   "metadata": {},
   "outputs": [
    {
     "name": "stderr",
     "output_type": "stream",
     "text": [
      "C:\\Users\\nicol\\Anaconda3\\lib\\site-packages\\ipykernel_launcher.py:1: FutureWarning: convert_objects is deprecated.  Use the data-type specific converters pd.to_datetime, pd.to_timedelta and pd.to_numeric.\n",
      "  \"\"\"Entry point for launching an IPython kernel.\n",
      "C:\\Users\\nicol\\Anaconda3\\lib\\site-packages\\ipykernel_launcher.py:2: FutureWarning: convert_objects is deprecated.  Use the data-type specific converters pd.to_datetime, pd.to_timedelta and pd.to_numeric.\n",
      "  \n"
     ]
    }
   ],
   "source": [
    "data['PM1'] = data['PM1'].convert_objects(convert_numeric=True)\n",
    "data['PM2'] = data['PM2'].convert_objects(convert_numeric=True)\n",
    "type(data['PM1'][1])\n",
    "\n",
    "inputSum = data['PM1']+data['PM2']\n",
    "weightedX = data['PM1'] * W1\n",
    "weightedY = data['PM2'] * W2\n",
    "\n",
    "weightedAverage = (weightedX + weightedY) / inputSum\n",
    "data['WeightedAverage'] = weightedAverage\n",
    "\n",
    "data.to_csv(\"WeightedResults.csv\", encoding='utf-8', index=False)"
   ]
  },
  {
   "cell_type": "code",
   "execution_count": null,
   "metadata": {
    "collapsed": true
   },
   "outputs": [],
   "source": []
  }
 ],
 "metadata": {
  "kernelspec": {
   "display_name": "Python 3",
   "language": "python",
   "name": "python3"
  },
  "language_info": {
   "codemirror_mode": {
    "name": "ipython",
    "version": 3
   },
   "file_extension": ".py",
   "mimetype": "text/x-python",
   "name": "python",
   "nbconvert_exporter": "python",
   "pygments_lexer": "ipython3",
   "version": "3.6.3"
  }
 },
 "nbformat": 4,
 "nbformat_minor": 2
}
